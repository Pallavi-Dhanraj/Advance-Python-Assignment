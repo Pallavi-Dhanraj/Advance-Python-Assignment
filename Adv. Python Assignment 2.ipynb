{
 "cells": [
  {
   "cell_type": "markdown",
   "metadata": {},
   "source": [
    "Q1. What is the relationship between classes and modules?"
   ]
  },
  {
   "cell_type": "markdown",
   "metadata": {},
   "source": [
    "Ans1-The difference between a class and a module in python is that a class is used to define a blueprint for a given object,         whereas a module is used to reuse a given piece of code inside another program"
   ]
  },
  {
   "cell_type": "markdown",
   "metadata": {},
   "source": [
    "Q2. How do you make instances and classes?"
   ]
  },
  {
   "cell_type": "markdown",
   "metadata": {},
   "source": [
    "Ans2-Use the class name to create a new instance\n",
    "    Call ClassName() to create a new instance of the class ClassName . To pass parameters to the class instance, the class must     have an __init__() method. Pass the parameters in the constructor of the class"
   ]
  },
  {
   "cell_type": "markdown",
   "metadata": {},
   "source": [
    "Q3. Where and how should be class attributes created?"
   ]
  },
  {
   "cell_type": "markdown",
   "metadata": {},
   "source": [
    "Ans3-Inside a class, you should qualify all references to class attributes with the class name; for example, MyClass. attr1 .       All references to instance attributes should be qualified with the self variable; for example, self."
   ]
  },
  {
   "cell_type": "markdown",
   "metadata": {},
   "source": [
    "Q4. Where and how are instance attributes created?"
   ]
  },
  {
   "cell_type": "markdown",
   "metadata": {},
   "source": [
    "Ans4-Instance attributes are defined in the constructor. Defined directly inside a class. Defined inside a constructor using        the self parameter. Shared across all objects."
   ]
  },
  {
   "cell_type": "markdown",
   "metadata": {},
   "source": [
    "Q5. What does the term \"self\" in a Python class mean?"
   ]
  },
  {
   "cell_type": "markdown",
   "metadata": {},
   "source": [
    "Ans5-The self parameter is a reference to the current instance of the class, and is used to access variables that belongs to        the class."
   ]
  },
  {
   "cell_type": "markdown",
   "metadata": {},
   "source": [
    "Q6. How does a Python class handle operator overloading?"
   ]
  },
  {
   "cell_type": "markdown",
   "metadata": {},
   "source": [
    "Ans6-To perform operator overloading, Python provides some special function or magic function that is automatically invoked          when it is associated with that particular operator. For example, when we use + operator, the magic method __add__ is          automatically invoked in which the operation for + operator is defined."
   ]
  },
  {
   "cell_type": "markdown",
   "metadata": {},
   "source": [
    "Q7. When do you consider allowing operator overloading of your classes?"
   ]
  },
  {
   "cell_type": "markdown",
   "metadata": {},
   "source": [
    "Ans7-Operator Overloading means giving extended meaning beyond their predefined operational meaning. For example operator + is       used to add two integers as well as join two strings and merge two lists. It is achievable because ‘+’ operator is             overloaded by int class and str class."
   ]
  },
  {
   "cell_type": "markdown",
   "metadata": {},
   "source": [
    "Q8. What is the most popular form of operator overloading?"
   ]
  },
  {
   "cell_type": "markdown",
   "metadata": {},
   "source": [
    "Ans8-A very popular and convenient example is the Addition (+) operator. It performs “Addition” on numbers whereas it performs      “Concatenation” on strings."
   ]
  },
  {
   "cell_type": "markdown",
   "metadata": {},
   "source": [
    "Q9. What are the two most important concepts to grasp in order to comprehend Python OOP code?"
   ]
  },
  {
   "cell_type": "markdown",
   "metadata": {},
   "source": [
    "Ans9-Inheritance, polymorphisms."
   ]
  }
 ],
 "metadata": {
  "kernelspec": {
   "display_name": "Python 3",
   "language": "python",
   "name": "python3"
  },
  "language_info": {
   "codemirror_mode": {
    "name": "ipython",
    "version": 3
   },
   "file_extension": ".py",
   "mimetype": "text/x-python",
   "name": "python",
   "nbconvert_exporter": "python",
   "pygments_lexer": "ipython3",
   "version": "3.8.5"
  }
 },
 "nbformat": 4,
 "nbformat_minor": 4
}
